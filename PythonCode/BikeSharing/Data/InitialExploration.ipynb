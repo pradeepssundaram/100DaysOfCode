{
 "metadata": {
  "language_info": {
   "codemirror_mode": {
    "name": "ipython",
    "version": 3
   },
   "file_extension": ".py",
   "mimetype": "text/x-python",
   "name": "python",
   "nbconvert_exporter": "python",
   "pygments_lexer": "ipython3",
   "version": "3.8.3-final"
  },
  "orig_nbformat": 2,
  "kernelspec": {
   "name": "python_defaultSpec_1599531177857",
   "display_name": "Python 3.8.3 64-bit ('base': conda)"
  }
 },
 "nbformat": 4,
 "nbformat_minor": 2,
 "cells": [
  {
   "cell_type": "code",
   "execution_count": 1,
   "metadata": {},
   "outputs": [],
   "source": [
    "#imports\n",
    "import pandas as pd\n",
    "import numpy as np\n",
    "import matplotlib.pyplot as plt \n",
    "import seaborn as sns"
   ]
  },
  {
   "cell_type": "code",
   "execution_count": 2,
   "metadata": {},
   "outputs": [],
   "source": [
    "#data load\n",
    "bikesharing = pd.read_csv(\"./Data/hour.csv\")\n"
   ]
  },
  {
   "cell_type": "code",
   "execution_count": 3,
   "metadata": {
    "tags": []
   },
   "outputs": [
    {
     "output_type": "stream",
     "name": "stdout",
     "text": "Shape of data: (17379, 17)\nNumber of missing values in the data:0\n"
    },
    {
     "output_type": "execute_result",
     "data": {
      "text/plain": "          instant        season            yr          mnth            hr  \\\ncount  17379.0000  17379.000000  17379.000000  17379.000000  17379.000000   \nmean    8690.0000      2.501640      0.502561      6.537775     11.546752   \nstd     5017.0295      1.106918      0.500008      3.438776      6.914405   \nmin        1.0000      1.000000      0.000000      1.000000      0.000000   \n25%     4345.5000      2.000000      0.000000      4.000000      6.000000   \n50%     8690.0000      3.000000      1.000000      7.000000     12.000000   \n75%    13034.5000      3.000000      1.000000     10.000000     18.000000   \nmax    17379.0000      4.000000      1.000000     12.000000     23.000000   \n\n            holiday       weekday    workingday    weathersit          temp  \\\ncount  17379.000000  17379.000000  17379.000000  17379.000000  17379.000000   \nmean       0.028770      3.003683      0.682721      1.425283      0.496987   \nstd        0.167165      2.005771      0.465431      0.639357      0.192556   \nmin        0.000000      0.000000      0.000000      1.000000      0.020000   \n25%        0.000000      1.000000      0.000000      1.000000      0.340000   \n50%        0.000000      3.000000      1.000000      1.000000      0.500000   \n75%        0.000000      5.000000      1.000000      2.000000      0.660000   \nmax        1.000000      6.000000      1.000000      4.000000      1.000000   \n\n              atemp           hum     windspeed        casual    registered  \\\ncount  17379.000000  17379.000000  17379.000000  17379.000000  17379.000000   \nmean       0.475775      0.627229      0.190098     35.676218    153.786869   \nstd        0.171850      0.192930      0.122340     49.305030    151.357286   \nmin        0.000000      0.000000      0.000000      0.000000      0.000000   \n25%        0.333300      0.480000      0.104500      4.000000     34.000000   \n50%        0.484800      0.630000      0.194000     17.000000    115.000000   \n75%        0.621200      0.780000      0.253700     48.000000    220.000000   \nmax        1.000000      1.000000      0.850700    367.000000    886.000000   \n\n                cnt  \ncount  17379.000000  \nmean     189.463088  \nstd      181.387599  \nmin        1.000000  \n25%       40.000000  \n50%      142.000000  \n75%      281.000000  \nmax      977.000000  ",
      "text/html": "<div>\n<style scoped>\n    .dataframe tbody tr th:only-of-type {\n        vertical-align: middle;\n    }\n\n    .dataframe tbody tr th {\n        vertical-align: top;\n    }\n\n    .dataframe thead th {\n        text-align: right;\n    }\n</style>\n<table border=\"1\" class=\"dataframe\">\n  <thead>\n    <tr style=\"text-align: right;\">\n      <th></th>\n      <th>instant</th>\n      <th>season</th>\n      <th>yr</th>\n      <th>mnth</th>\n      <th>hr</th>\n      <th>holiday</th>\n      <th>weekday</th>\n      <th>workingday</th>\n      <th>weathersit</th>\n      <th>temp</th>\n      <th>atemp</th>\n      <th>hum</th>\n      <th>windspeed</th>\n      <th>casual</th>\n      <th>registered</th>\n      <th>cnt</th>\n    </tr>\n  </thead>\n  <tbody>\n    <tr>\n      <th>count</th>\n      <td>17379.0000</td>\n      <td>17379.000000</td>\n      <td>17379.000000</td>\n      <td>17379.000000</td>\n      <td>17379.000000</td>\n      <td>17379.000000</td>\n      <td>17379.000000</td>\n      <td>17379.000000</td>\n      <td>17379.000000</td>\n      <td>17379.000000</td>\n      <td>17379.000000</td>\n      <td>17379.000000</td>\n      <td>17379.000000</td>\n      <td>17379.000000</td>\n      <td>17379.000000</td>\n      <td>17379.000000</td>\n    </tr>\n    <tr>\n      <th>mean</th>\n      <td>8690.0000</td>\n      <td>2.501640</td>\n      <td>0.502561</td>\n      <td>6.537775</td>\n      <td>11.546752</td>\n      <td>0.028770</td>\n      <td>3.003683</td>\n      <td>0.682721</td>\n      <td>1.425283</td>\n      <td>0.496987</td>\n      <td>0.475775</td>\n      <td>0.627229</td>\n      <td>0.190098</td>\n      <td>35.676218</td>\n      <td>153.786869</td>\n      <td>189.463088</td>\n    </tr>\n    <tr>\n      <th>std</th>\n      <td>5017.0295</td>\n      <td>1.106918</td>\n      <td>0.500008</td>\n      <td>3.438776</td>\n      <td>6.914405</td>\n      <td>0.167165</td>\n      <td>2.005771</td>\n      <td>0.465431</td>\n      <td>0.639357</td>\n      <td>0.192556</td>\n      <td>0.171850</td>\n      <td>0.192930</td>\n      <td>0.122340</td>\n      <td>49.305030</td>\n      <td>151.357286</td>\n      <td>181.387599</td>\n    </tr>\n    <tr>\n      <th>min</th>\n      <td>1.0000</td>\n      <td>1.000000</td>\n      <td>0.000000</td>\n      <td>1.000000</td>\n      <td>0.000000</td>\n      <td>0.000000</td>\n      <td>0.000000</td>\n      <td>0.000000</td>\n      <td>1.000000</td>\n      <td>0.020000</td>\n      <td>0.000000</td>\n      <td>0.000000</td>\n      <td>0.000000</td>\n      <td>0.000000</td>\n      <td>0.000000</td>\n      <td>1.000000</td>\n    </tr>\n    <tr>\n      <th>25%</th>\n      <td>4345.5000</td>\n      <td>2.000000</td>\n      <td>0.000000</td>\n      <td>4.000000</td>\n      <td>6.000000</td>\n      <td>0.000000</td>\n      <td>1.000000</td>\n      <td>0.000000</td>\n      <td>1.000000</td>\n      <td>0.340000</td>\n      <td>0.333300</td>\n      <td>0.480000</td>\n      <td>0.104500</td>\n      <td>4.000000</td>\n      <td>34.000000</td>\n      <td>40.000000</td>\n    </tr>\n    <tr>\n      <th>50%</th>\n      <td>8690.0000</td>\n      <td>3.000000</td>\n      <td>1.000000</td>\n      <td>7.000000</td>\n      <td>12.000000</td>\n      <td>0.000000</td>\n      <td>3.000000</td>\n      <td>1.000000</td>\n      <td>1.000000</td>\n      <td>0.500000</td>\n      <td>0.484800</td>\n      <td>0.630000</td>\n      <td>0.194000</td>\n      <td>17.000000</td>\n      <td>115.000000</td>\n      <td>142.000000</td>\n    </tr>\n    <tr>\n      <th>75%</th>\n      <td>13034.5000</td>\n      <td>3.000000</td>\n      <td>1.000000</td>\n      <td>10.000000</td>\n      <td>18.000000</td>\n      <td>0.000000</td>\n      <td>5.000000</td>\n      <td>1.000000</td>\n      <td>2.000000</td>\n      <td>0.660000</td>\n      <td>0.621200</td>\n      <td>0.780000</td>\n      <td>0.253700</td>\n      <td>48.000000</td>\n      <td>220.000000</td>\n      <td>281.000000</td>\n    </tr>\n    <tr>\n      <th>max</th>\n      <td>17379.0000</td>\n      <td>4.000000</td>\n      <td>1.000000</td>\n      <td>12.000000</td>\n      <td>23.000000</td>\n      <td>1.000000</td>\n      <td>6.000000</td>\n      <td>1.000000</td>\n      <td>4.000000</td>\n      <td>1.000000</td>\n      <td>1.000000</td>\n      <td>1.000000</td>\n      <td>0.850700</td>\n      <td>367.000000</td>\n      <td>886.000000</td>\n      <td>977.000000</td>\n    </tr>\n  </tbody>\n</table>\n</div>"
     },
     "metadata": {},
     "execution_count": 3
    }
   ],
   "source": [
    "print(f\"Shape of data: {bikesharing.shape}\")\n",
    "print(f\"Number of missing values in the data:{bikesharing.isnull().sum().sum()}\")\n",
    "bikesharing.describe()"
   ]
  },
  {
   "cell_type": "code",
   "execution_count": 5,
   "metadata": {},
   "outputs": [
    {
     "output_type": "execute_result",
     "data": {
      "text/plain": "       instant      dteday  season  yr  mnth  hr  holiday  weekday  \\\n15938    15939  2012-11-01       4   1    11  19        0        4   \n7360      7361  2011-11-08       4   0    11   7        0        2   \n2683      2684  2011-04-26       2   0     4  17        0        2   \n4438      4439  2011-07-08       3   0     7  20        0        5   \n7788      7789  2011-11-26       4   0    11   3        0        6   \n...        ...         ...     ...  ..   ...  ..      ...      ...   \n4074      4075  2011-06-23       3   0     6  16        0        4   \n1513      1514  2011-03-08       1   0     3  10        0        2   \n2266      2267  2011-04-09       2   0     4   7        0        6   \n5403      5404  2011-08-18       3   0     8   1        0        4   \n6646      6647  2011-10-09       4   0    10  12        0        0   \n\n       workingday  weathersit  temp   atemp   hum  windspeed  casual  \\\n15938           1           2  0.40  0.4091  0.50     0.1642      28   \n7360            1           1  0.30  0.3182  0.87     0.1045       7   \n2683            1           1  0.68  0.6364  0.61     0.3582      66   \n4438            1           1  0.66  0.6061  0.83     0.1642      30   \n7788            0           1  0.30  0.3333  0.81     0.0000       8   \n...           ...         ...   ...     ...   ...        ...     ...   \n4074            1           2  0.74  0.6818  0.62     0.2985      58   \n1513            1           2  0.30  0.2879  0.33     0.1940      25   \n2266            0           2  0.30  0.3030  0.93     0.1642       8   \n5403            1           2  0.66  0.6212  0.65     0.1642      13   \n6646            0           1  0.64  0.6212  0.44     0.0896     212   \n\n       registered  cnt  \n15938         424  452  \n7360          316  323  \n2683          455  521  \n4438          220  250  \n7788            9   17  \n...           ...  ...  \n4074          217  275  \n1513           46   71  \n2266           13   21  \n5403           11   24  \n6646          243  455  \n\n[100 rows x 17 columns]",
      "text/html": "<div>\n<style scoped>\n    .dataframe tbody tr th:only-of-type {\n        vertical-align: middle;\n    }\n\n    .dataframe tbody tr th {\n        vertical-align: top;\n    }\n\n    .dataframe thead th {\n        text-align: right;\n    }\n</style>\n<table border=\"1\" class=\"dataframe\">\n  <thead>\n    <tr style=\"text-align: right;\">\n      <th></th>\n      <th>instant</th>\n      <th>dteday</th>\n      <th>season</th>\n      <th>yr</th>\n      <th>mnth</th>\n      <th>hr</th>\n      <th>holiday</th>\n      <th>weekday</th>\n      <th>workingday</th>\n      <th>weathersit</th>\n      <th>temp</th>\n      <th>atemp</th>\n      <th>hum</th>\n      <th>windspeed</th>\n      <th>casual</th>\n      <th>registered</th>\n      <th>cnt</th>\n    </tr>\n  </thead>\n  <tbody>\n    <tr>\n      <th>15938</th>\n      <td>15939</td>\n      <td>2012-11-01</td>\n      <td>4</td>\n      <td>1</td>\n      <td>11</td>\n      <td>19</td>\n      <td>0</td>\n      <td>4</td>\n      <td>1</td>\n      <td>2</td>\n      <td>0.40</td>\n      <td>0.4091</td>\n      <td>0.50</td>\n      <td>0.1642</td>\n      <td>28</td>\n      <td>424</td>\n      <td>452</td>\n    </tr>\n    <tr>\n      <th>7360</th>\n      <td>7361</td>\n      <td>2011-11-08</td>\n      <td>4</td>\n      <td>0</td>\n      <td>11</td>\n      <td>7</td>\n      <td>0</td>\n      <td>2</td>\n      <td>1</td>\n      <td>1</td>\n      <td>0.30</td>\n      <td>0.3182</td>\n      <td>0.87</td>\n      <td>0.1045</td>\n      <td>7</td>\n      <td>316</td>\n      <td>323</td>\n    </tr>\n    <tr>\n      <th>2683</th>\n      <td>2684</td>\n      <td>2011-04-26</td>\n      <td>2</td>\n      <td>0</td>\n      <td>4</td>\n      <td>17</td>\n      <td>0</td>\n      <td>2</td>\n      <td>1</td>\n      <td>1</td>\n      <td>0.68</td>\n      <td>0.6364</td>\n      <td>0.61</td>\n      <td>0.3582</td>\n      <td>66</td>\n      <td>455</td>\n      <td>521</td>\n    </tr>\n    <tr>\n      <th>4438</th>\n      <td>4439</td>\n      <td>2011-07-08</td>\n      <td>3</td>\n      <td>0</td>\n      <td>7</td>\n      <td>20</td>\n      <td>0</td>\n      <td>5</td>\n      <td>1</td>\n      <td>1</td>\n      <td>0.66</td>\n      <td>0.6061</td>\n      <td>0.83</td>\n      <td>0.1642</td>\n      <td>30</td>\n      <td>220</td>\n      <td>250</td>\n    </tr>\n    <tr>\n      <th>7788</th>\n      <td>7789</td>\n      <td>2011-11-26</td>\n      <td>4</td>\n      <td>0</td>\n      <td>11</td>\n      <td>3</td>\n      <td>0</td>\n      <td>6</td>\n      <td>0</td>\n      <td>1</td>\n      <td>0.30</td>\n      <td>0.3333</td>\n      <td>0.81</td>\n      <td>0.0000</td>\n      <td>8</td>\n      <td>9</td>\n      <td>17</td>\n    </tr>\n    <tr>\n      <th>...</th>\n      <td>...</td>\n      <td>...</td>\n      <td>...</td>\n      <td>...</td>\n      <td>...</td>\n      <td>...</td>\n      <td>...</td>\n      <td>...</td>\n      <td>...</td>\n      <td>...</td>\n      <td>...</td>\n      <td>...</td>\n      <td>...</td>\n      <td>...</td>\n      <td>...</td>\n      <td>...</td>\n      <td>...</td>\n    </tr>\n    <tr>\n      <th>4074</th>\n      <td>4075</td>\n      <td>2011-06-23</td>\n      <td>3</td>\n      <td>0</td>\n      <td>6</td>\n      <td>16</td>\n      <td>0</td>\n      <td>4</td>\n      <td>1</td>\n      <td>2</td>\n      <td>0.74</td>\n      <td>0.6818</td>\n      <td>0.62</td>\n      <td>0.2985</td>\n      <td>58</td>\n      <td>217</td>\n      <td>275</td>\n    </tr>\n    <tr>\n      <th>1513</th>\n      <td>1514</td>\n      <td>2011-03-08</td>\n      <td>1</td>\n      <td>0</td>\n      <td>3</td>\n      <td>10</td>\n      <td>0</td>\n      <td>2</td>\n      <td>1</td>\n      <td>2</td>\n      <td>0.30</td>\n      <td>0.2879</td>\n      <td>0.33</td>\n      <td>0.1940</td>\n      <td>25</td>\n      <td>46</td>\n      <td>71</td>\n    </tr>\n    <tr>\n      <th>2266</th>\n      <td>2267</td>\n      <td>2011-04-09</td>\n      <td>2</td>\n      <td>0</td>\n      <td>4</td>\n      <td>7</td>\n      <td>0</td>\n      <td>6</td>\n      <td>0</td>\n      <td>2</td>\n      <td>0.30</td>\n      <td>0.3030</td>\n      <td>0.93</td>\n      <td>0.1642</td>\n      <td>8</td>\n      <td>13</td>\n      <td>21</td>\n    </tr>\n    <tr>\n      <th>5403</th>\n      <td>5404</td>\n      <td>2011-08-18</td>\n      <td>3</td>\n      <td>0</td>\n      <td>8</td>\n      <td>1</td>\n      <td>0</td>\n      <td>4</td>\n      <td>1</td>\n      <td>2</td>\n      <td>0.66</td>\n      <td>0.6212</td>\n      <td>0.65</td>\n      <td>0.1642</td>\n      <td>13</td>\n      <td>11</td>\n      <td>24</td>\n    </tr>\n    <tr>\n      <th>6646</th>\n      <td>6647</td>\n      <td>2011-10-09</td>\n      <td>4</td>\n      <td>0</td>\n      <td>10</td>\n      <td>12</td>\n      <td>0</td>\n      <td>0</td>\n      <td>0</td>\n      <td>1</td>\n      <td>0.64</td>\n      <td>0.6212</td>\n      <td>0.44</td>\n      <td>0.0896</td>\n      <td>212</td>\n      <td>243</td>\n      <td>455</td>\n    </tr>\n  </tbody>\n</table>\n<p>100 rows × 17 columns</p>\n</div>"
     },
     "metadata": {},
     "execution_count": 5
    }
   ],
   "source": [
    "bikesharing.sample(100)\n"
   ]
  }
 ]
}